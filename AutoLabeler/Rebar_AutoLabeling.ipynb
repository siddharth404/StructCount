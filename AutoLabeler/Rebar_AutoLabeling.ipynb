{
  "cells": [
    {
      "cell_type": "code",
      "execution_count": null,
      "metadata": {
        "colab": {
          "base_uri": "https://localhost:8080/"
        },
        "id": "XQSuAtwZ39t4",
        "outputId": "0ba5e493-5595-4932-d670-e5b9667c956c"
      },
      "outputs": [
        {
          "name": "stdout",
          "output_type": "stream",
          "text": [
            "Mounted at /content/drive\n"
          ]
        }
      ],
      "source": [
        "from google.colab import drive\n",
        "drive.mount('/content/drive')"
      ]
    },
    {
      "cell_type": "markdown",
      "metadata": {},
      "source": [
        "## Function Overview\n",
        "\n",
        "- **Function Name:** `auto_label`\n",
        "- **Parameters:**\n",
        "  - `image_path` (str): The file path of the image for which the XML annotation will be generated.\n",
        "  - `bndbox` (list of tuples): A list of bounding boxes, where each bounding box is represented as a tuple `(xmin, ymin, xmax, ymax)`.\n",
        "  - `class_name` (str): The class name of the object(s) to be annotated. Defaults to `'rebar'`.\n",
        "\n",
        "## Code Details\n",
        "\n",
        "1. **Image Dimensions**: The script uses the `PIL` library to open the image and extract its dimensions.\n",
        "2. **XML Structure**: An XML structure is created with the root element `<annotation>`, which includes child elements for filename, size (width, height, depth), and bounding boxes for each object.\n",
        "3. **File Saving**: The generated XML is saved to a file with the same name as the image but with an `.xml` extension.\n",
        "\n",
        "# Instructions to Change the XML Saving Path\n",
        "\n",
        "By default, the XML file is saved in the same directory as the image file and has the same base name with an `.xml` extension. To change the XML saving path, follow these steps:\n",
        "\n",
        "1. **Locate the XML Saving Code**:\n",
        "   Find the following line in the `auto_label` function where the XML file path is determined:\n",
        "   ```python\n",
        "   xml_file_path = image_path.replace('.jpg', '.xml').replace('.png', '.xml')"
      ]
    },
    {
      "cell_type": "code",
      "execution_count": null,
      "metadata": {
        "id": "BKDHIMRmmc_-"
      },
      "outputs": [],
      "source": [
        "import xml.etree.ElementTree as ET\n",
        "\n",
        "def auto_label(image_path, bndbox, class_name='rebar'):\n",
        "    # Load image to get dimensions\n",
        "    from PIL import Image\n",
        "    with Image.open(image_path) as img:\n",
        "        width, height = img.size\n",
        "\n",
        "    # Create XML structure\n",
        "    annotation = ET.Element('annotation')\n",
        "    ET.SubElement(annotation, 'filename').text = image_path.split('/')[-1]\n",
        "\n",
        "    size = ET.SubElement(annotation, 'size')\n",
        "    ET.SubElement(size, 'width').text = str(width)\n",
        "    ET.SubElement(size, 'height').text = str(height)\n",
        "    ET.SubElement(size, 'depth').text = '3'  # Assuming RGB image\n",
        "\n",
        "    for bbox in bndbox:\n",
        "        obj = ET.SubElement(annotation, 'object')\n",
        "        ET.SubElement(obj, 'name').text = class_name\n",
        "        ET.SubElement(obj, 'pose').text = 'Unspecified'\n",
        "        ET.SubElement(obj, 'truncated').text = '0'\n",
        "        ET.SubElement(obj, 'difficult').text = '0'\n",
        "\n",
        "        bndbox_element = ET.SubElement(obj, 'bndbox')\n",
        "        ET.SubElement(bndbox_element, 'xmin').text = str(bbox[0])\n",
        "        ET.SubElement(bndbox_element, 'ymin').text = str(bbox[1])\n",
        "        ET.SubElement(bndbox_element, 'xmax').text = str(bbox[2])\n",
        "        ET.SubElement(bndbox_element, 'ymax').text = str(bbox[3])\n",
        "\n",
        "    # Convert the XML structure to a string\n",
        "    xml_str = ET.tostring(annotation, encoding='utf-8', method='xml').decode()\n",
        "\n",
        "    # Write XML string to a file\n",
        "    xml_file_path = image_path.replace('.jpg', '.xml').replace('.png', '.xml')\n",
        "    with open(xml_file_path, 'w') as f:\n",
        "        f.write(xml_str)\n",
        "\n",
        "    print(f'XML file saved to {xml_file_path}')\n"
      ]
    },
    {
      "cell_type": "code",
      "execution_count": null,
      "metadata": {
        "id": "JXpET1gseXzG"
      },
      "outputs": [],
      "source": [
        "import cv2\n",
        "import numpy as np\n",
        "from PIL import Image\n",
        "import math\n",
        "import tensorflow as tf\n",
        "model_path = 'rebar_preTrained_model.tflite'\n",
        "classes = ['rebar']\n",
        "\n",
        "\n",
        "def preprocess_image(image_path, input_size):\n",
        "  img = tf.io.read_file(image_path)\n",
        "  img = tf.io.decode_image(img, channels=3)\n",
        "  img = tf.image.convert_image_dtype(img, tf.uint8)\n",
        "  original_image = img\n",
        "  resized_img = tf.image.resize(img, input_size)\n",
        "  resized_img = resized_img[tf.newaxis, :]\n",
        "  resized_img = tf.cast(resized_img, dtype=tf.uint8)\n",
        "  return resized_img, original_image\n",
        "\n",
        "def detect_objects(interpreter, image, threshold):\n",
        "  signature_fn = interpreter.get_signature_runner()\n",
        "  output = signature_fn(images=image)\n",
        "  count = int(np.squeeze(output['output_0']))\n",
        "  scores = np.squeeze(output['output_1'])\n",
        "  classes = np.squeeze(output['output_2'])\n",
        "  boxes = np.squeeze(output['output_3'])\n",
        "  results = []\n",
        "  for i in range(count):\n",
        "    if scores[i] >= threshold:\n",
        "      result = {\n",
        "        'bounding_box': boxes[i],\n",
        "        'class_id': classes[i],\n",
        "        'score': scores[i]\n",
        "      }\n",
        "      results.append(result)\n",
        "  return results\n",
        "\n",
        "def run_odt_and_draw_results(image_path, interpreter, threshold=0.25, iou_threshold=0.2):\n",
        "  _, input_height, input_width, _ = interpreter.get_input_details()[0]['shape']\n",
        "  preprocessed_image, original_image = preprocess_image(\n",
        "      image_path,\n",
        "      (input_height, input_width)\n",
        "    )\n",
        "  results = detect_objects(interpreter, preprocessed_image, threshold=threshold)\n",
        "  boxes = np.array([result['bounding_box'] for result in results])\n",
        "  scores = np.array([result['score'] for result in results])\n",
        "  selected_indices = tf.image.non_max_suppression(\n",
        "      boxes, scores, max_output_size=400, iou_threshold=iou_threshold\n",
        "  ).numpy()\n",
        "  selected_results = [results[i] for i in selected_indices]\n",
        "  print(selected_results)\n",
        "  original_image_np = original_image.numpy().astype(np.uint8)\n",
        "  bndbox = []\n",
        "  for obj in selected_results:\n",
        "    ymin, xmin, ymax, xmax = obj['bounding_box']\n",
        "    xmin = int(xmin * original_image_np.shape[1])\n",
        "    xmax = int(xmax * original_image_np.shape[1])\n",
        "    ymin = int(ymin * original_image_np.shape[0])\n",
        "    ymax = int(ymax * original_image_np.shape[0])\n",
        "    bndbox.append([xmin,ymin,xmax,ymax])\n",
        "  auto_label(image_path,bndbox)\n"
      ]
    },
    {
      "cell_type": "markdown",
      "metadata": {},
      "source": [
        "# Instructions for Processing Multiple Images in a Folder\n",
        "\n",
        "To process every image in a folder, follow these steps:\n",
        "\n",
        "1. **Import Required Libraries**\n",
        "\n",
        "   Make sure to import the necessary libraries at the beginning of your script:\n",
        "   - `os` for interacting with the file system.\n",
        "\n",
        "2. **Define the Directory and Model Path**\n",
        "\n",
        "   Set the path to the folder containing your images .\n",
        "\n",
        "\n",
        "3. **Iterate Through the Images in the Directory**\n",
        "\n",
        "   Use the `os.listdir` function to list all files in the specified directory. For each image file (e.g., `.png`, `.jpg`, `.jpeg`), do the following:\n",
        "   - Construct the full file path.\n",
        "   - Call the `run_odt_and_draw_results` function with the image path and interpreter.\n",
        "\n",
        "4. **Ensure Proper File Handling**\n",
        "\n",
        "   - Make sure that the directory where you save processed images exists or create it if necessary.\n",
        "   - Handle any potential errors, such as file not found or permission issues, gracefully.\n",
        "\n",
        "By following these steps, you will be able to process each image in the specified folder"
      ]
    },
    {
      "cell_type": "code",
      "execution_count": null,
      "metadata": {
        "colab": {
          "base_uri": "https://localhost:8080/"
        },
        "id": "kwl8Lp2GiEsf",
        "outputId": "99646847-af79-4651-bbe7-c00e6dc637e8"
      },
      "outputs": [
        {
          "name": "stdout",
          "output_type": "stream",
          "text": [
            "[{'bounding_box': array([0.5985279 , 0.7409323 , 0.64430726, 0.7814608 ], dtype=float32), 'class_id': 0.0, 'score': 0.70703125}, {'bounding_box': array([0.5377199 , 0.6485695 , 0.58349925, 0.68801564], dtype=float32), 'class_id': 0.0, 'score': 0.67578125}, {'bounding_box': array([0.1538323, 0.6178968, 0.2055427, 0.6578804], dtype=float32), 'class_id': 0.0, 'score': 0.6640625}, {'bounding_box': array([0.58321065, 0.6674251 , 0.6283745 , 0.70379406], dtype=float32), 'class_id': 0.0, 'score': 0.65234375}, {'bounding_box': array([0.5962976 , 0.7001193 , 0.6414615 , 0.73698395], dtype=float32), 'class_id': 0.0, 'score': 0.65234375}, {'bounding_box': array([0.54393613, 0.60755557, 0.5916128 , 0.6454318 ], dtype=float32), 'class_id': 0.0, 'score': 0.640625}, {'bounding_box': array([0.18592831, 0.65137273, 0.23763871, 0.6902885 ], dtype=float32), 'class_id': 0.0, 'score': 0.62890625}, {'bounding_box': array([0.14092824, 0.45104742, 0.19058082, 0.4894399 ], dtype=float32), 'class_id': 0.0, 'score': 0.62109375}, {'bounding_box': array([0.25308588, 0.60087717, 0.29886523, 0.641958  ], dtype=float32), 'class_id': 0.0, 'score': 0.62109375}, {'bounding_box': array([0.27681094, 0.54411715, 0.32579595, 0.5804861 ], dtype=float32), 'class_id': 0.0, 'score': 0.62109375}, {'bounding_box': array([0.6599931 , 0.5593818 , 0.70107394, 0.59477943], dtype=float32), 'class_id': 0.0, 'score': 0.62109375}, {'bounding_box': array([0.1937353 , 0.4605283 , 0.23829189, 0.50105685], dtype=float32), 'class_id': 0.0, 'score': 0.609375}, {'bounding_box': array([0.20357019, 0.3254595 , 0.25124684, 0.36333582], dtype=float32), 'class_id': 0.0, 'score': 0.609375}, {'bounding_box': array([0.23332  , 0.7905674, 0.282305 , 0.8289598], dtype=float32), 'class_id': 0.0, 'score': 0.609375}, {'bounding_box': array([0.26457   , 0.3873681 , 0.313555  , 0.42473516], dtype=float32), 'class_id': 0.0, 'score': 0.609375}, {'bounding_box': array([0.76528287, 0.5945505 , 0.8002045 , 0.6271869 ], dtype=float32), 'class_id': 0.0, 'score': 0.609375}, {'bounding_box': array([0.2974742 , 0.36607563, 0.3430084 , 0.4031387 ], dtype=float32), 'class_id': 0.0, 'score': 0.59765625}, {'bounding_box': array([0.41893613, 0.5446028 , 0.46661276, 0.58000046], dtype=float32), 'class_id': 0.0, 'score': 0.59765625}, {'bounding_box': array([0.42232022, 0.6992733 , 0.46999684, 0.7361379 ], dtype=float32), 'class_id': 0.0, 'score': 0.59765625}, {'bounding_box': array([0.5796124 , 0.5366565 , 0.62182057, 0.5761026 ], dtype=float32), 'class_id': 0.0, 'score': 0.59765625}, {'bounding_box': array([0.66140515, 0.4677966 , 0.7030459 , 0.50224876], dtype=float32), 'class_id': 0.0, 'score': 0.59765625}, {'bounding_box': array([0.6843544 , 0.5893001 , 0.72488296, 0.62566906], dtype=float32), 'class_id': 0.0, 'score': 0.59765625}, {'bounding_box': array([0.12853979, 0.65991235, 0.18283497, 0.70065916], dtype=float32), 'class_id': 0.0, 'score': 0.5859375}, {'bounding_box': array([0.16980492, 0.75228757, 0.22082008, 0.7912033 ], dtype=float32), 'class_id': 0.0, 'score': 0.5859375}, {'bounding_box': array([0.2343399 , 0.44597134, 0.28466916, 0.48436382], dtype=float32), 'class_id': 0.0, 'score': 0.5859375}, {'bounding_box': array([0.6019597 , 0.60247946, 0.64087546, 0.6403557 ], dtype=float32), 'class_id': 0.0, 'score': 0.5859375}, {'bounding_box': array([0.66250247, 0.7779931 , 0.7019486 , 0.8153602 ], dtype=float32), 'class_id': 0.0, 'score': 0.5859375}, {'bounding_box': array([0.7946028 , 0.49843216, 0.83000046, 0.5324211 ], dtype=float32), 'class_id': 0.0, 'score': 0.5859375}, {'bounding_box': array([0.79531014, 0.7128526 , 0.83267725, 0.74873257], dtype=float32), 'class_id': 0.0, 'score': 0.5859375}, {'bounding_box': array([0.5807421 , 0.46777654, 0.6223829 , 0.50565284], dtype=float32), 'class_id': 0.0, 'score': 0.57421875}, {'bounding_box': array([0.6360598 , 0.5893925 , 0.67604345, 0.62726873], dtype=float32), 'class_id': 0.0, 'score': 0.57421875}, {'bounding_box': array([0.72642577, 0.7010908 , 0.7664094 , 0.73601246], dtype=float32), 'class_id': 0.0, 'score': 0.57421875}, {'bounding_box': array([0.75838923, 0.47688803, 0.7952539 , 0.51425505], dtype=float32), 'class_id': 0.0, 'score': 0.57421875}, {'bounding_box': array([0.23162797, 0.5605882 , 0.28061298, 0.59695715], dtype=float32), 'class_id': 0.0, 'score': 0.55859375}, {'bounding_box': array([0.5374853, 0.5514355, 0.5820419, 0.5908816], dtype=float32), 'class_id': 0.0, 'score': 0.55859375}, {'bounding_box': array([0.63407284, 0.6814505 , 0.67803043, 0.71932673], dtype=float32), 'class_id': 0.0, 'score': 0.55859375}, {'bounding_box': array([0.68626845, 0.40119857, 0.7246609 , 0.4370786 ], dtype=float32), 'class_id': 0.0, 'score': 0.55859375}, {'bounding_box': array([0.70714426, 0.66971534, 0.7476728 , 0.70658   ], dtype=float32), 'class_id': 0.0, 'score': 0.55859375}, {'bounding_box': array([0.7900484 , 0.42955235, 0.8287558 , 0.464662  ], dtype=float32), 'class_id': 0.0, 'score': 0.55859375}, {'bounding_box': array([0.1937353 , 0.24231955, 0.23829189, 0.2817656 ], dtype=float32), 'class_id': 0.0, 'score': 0.546875}, {'bounding_box': array([0.19950892, 0.71623665, 0.25192404, 0.7521166 ], dtype=float32), 'class_id': 0.0, 'score': 0.546875}, {'bounding_box': array([0.23603192, 0.22975938, 0.2863612 , 0.26815188], dtype=float32), 'class_id': 0.0, 'score': 0.546875}, {'bounding_box': array([0.2828617 , 0.57862884, 0.32989734, 0.6135505 ], dtype=float32), 'class_id': 0.0, 'score': 0.546875}, {'bounding_box': array([0.3283609, 0.7463961, 0.3747641, 0.7827651], dtype=float32), 'class_id': 0.0, 'score': 0.546875}, {'bounding_box': array([0.37216377, 0.4498681 , 0.41794312, 0.48723516], dtype=float32), 'class_id': 0.0, 'score': 0.546875}, {'bounding_box': array([0.39243737, 0.2785845 , 0.44076374, 0.31646082], dtype=float32), 'class_id': 0.0, 'score': 0.546875}, {'bounding_box': array([0.5366565 , 0.45020142, 0.5761026 , 0.4885939 ], dtype=float32), 'class_id': 0.0, 'score': 0.546875}, {'bounding_box': array([0.6996746 , 0.62728757, 0.7391207 , 0.6662033 ], dtype=float32), 'class_id': 0.0, 'score': 0.546875}, {'bounding_box': array([0.7163391 , 0.46816987, 0.7537062 , 0.50356746], dtype=float32), 'class_id': 0.0, 'score': 0.546875}, {'bounding_box': array([0.7747477 , 0.63811165, 0.8101454 , 0.6739916 ], dtype=float32), 'class_id': 0.0, 'score': 0.546875}, {'bounding_box': array([0.807551  , 0.65155226, 0.84491813, 0.6884169 ], dtype=float32), 'class_id': 0.0, 'score': 0.546875}, {'bounding_box': array([0.36076885, 0.5001272 , 0.4065482 , 0.5374942 ], dtype=float32), 'class_id': 0.0, 'score': 0.53515625}, {'bounding_box': array([0.6142403, 0.5176697, 0.6547688, 0.5512017], dtype=float32), 'class_id': 0.0, 'score': 0.53515625}, {'bounding_box': array([0.6167783 , 0.55339265, 0.65730685, 0.5923084 ], dtype=float32), 'class_id': 0.0, 'score': 0.53515625}, {'bounding_box': array([0.6767464 , 0.3078023 , 0.7189546 , 0.34466693], dtype=float32), 'class_id': 0.0, 'score': 0.53515625}, {'bounding_box': array([0.7612614 , 0.30465272, 0.7974357 , 0.33836517], dtype=float32), 'class_id': 0.0, 'score': 0.53515625}, {'bounding_box': array([0.1533339 , 0.30695626, 0.20434907, 0.3438209 ], dtype=float32), 'class_id': 0.0, 'score': 0.5234375}, {'bounding_box': array([0.20304468, 0.50813806, 0.25008032, 0.54550505], dtype=float32), 'class_id': 0.0, 'score': 0.5234375}, {'bounding_box': array([0.25519642, 0.3034323 , 0.3035228 , 0.34396082], dtype=float32), 'class_id': 0.0, 'score': 0.5234375}, {'bounding_box': array([0.6267542, 0.6451855, 0.6701208, 0.6846316], dtype=float32), 'class_id': 0.0, 'score': 0.5234375}, {'bounding_box': array([0.6835084 , 0.5281318 , 0.72403693, 0.56352943], dtype=float32), 'class_id': 0.0, 'score': 0.5234375}, {'bounding_box': array([0.68039733, 0.6998681 , 0.7237639 , 0.7372352 ], dtype=float32), 'class_id': 0.0, 'score': 0.5234375}, {'bounding_box': array([0.69321746, 0.34328237, 0.73542565, 0.380147  ], dtype=float32), 'class_id': 0.0, 'score': 0.5234375}, {'bounding_box': array([0.7280674 , 0.74241054, 0.7664598 , 0.7782905 ], dtype=float32), 'class_id': 0.0, 'score': 0.5234375}, {'bounding_box': array([0.7378207, 0.6213961, 0.7778043, 0.6577651], dtype=float32), 'class_id': 0.0, 'score': 0.5234375}, {'bounding_box': array([0.79638165, 0.6101755 , 0.8299137 , 0.6428119 ], dtype=float32), 'class_id': 0.0, 'score': 0.5234375}, {'bounding_box': array([0.12491968, 0.4192095 , 0.17195532, 0.45708582], dtype=float32), 'class_id': 0.0, 'score': 0.51171875}, {'bounding_box': array([0.15164188, 0.5009732 , 0.20265704, 0.5383402 ], dtype=float32), 'class_id': 0.0, 'score': 0.51171875}, {'bounding_box': array([0.23492283, 0.52714705, 0.28070217, 0.56451416], dtype=float32), 'class_id': 0.0, 'score': 0.51171875}, {'bounding_box': array([0.2870918 , 0.69384354, 0.33412743, 0.7297235 ], dtype=float32), 'class_id': 0.0, 'score': 0.51171875}, {'bounding_box': array([0.2801058 , 0.7721885 , 0.32588515, 0.8143967 ], dtype=float32), 'class_id': 0.0, 'score': 0.51171875}, {'bounding_box': array([0.31463724, 0.48281017, 0.36231387, 0.52017725], dtype=float32), 'class_id': 0.0, 'score': 0.51171875}, {'bounding_box': array([0.7574256 , 0.4097398 , 0.79409283, 0.44484943], dtype=float32), 'class_id': 0.0, 'score': 0.51171875}, {'bounding_box': array([0.08332141, 0.5517464 , 0.13164781, 0.5939546 ], dtype=float32), 'class_id': 0.0, 'score': 0.5}, {'bounding_box': array([0.13004099, 0.5710218 , 0.18037026, 0.6110054 ], dtype=float32), 'class_id': 0.0, 'score': 0.5}, {'bounding_box': array([0.1923428 , 0.5436181 , 0.23630033, 0.5809852 ], dtype=float32), 'class_id': 0.0, 'score': 0.5}, {'bounding_box': array([0.20959494, 0.3658927 , 0.25537428, 0.4048084 ], dtype=float32), 'class_id': 0.0, 'score': 0.5}, {'bounding_box': array([0.32843816, 0.7127005 , 0.37299478, 0.75057673], dtype=float32), 'class_id': 0.0, 'score': 0.5}, {'bounding_box': array([0.37056094, 0.23924026, 0.41954595, 0.2797688 ], dtype=float32), 'class_id': 0.0, 'score': 0.5}, {'bounding_box': array([0.37639385, 0.6172584 , 0.4221732 , 0.6551347 ], dtype=float32), 'class_id': 0.0, 'score': 0.5}, {'bounding_box': array([0.567709  , 0.42882478, 0.6064164 , 0.46538955], dtype=float32), 'class_id': 0.0, 'score': 0.5}, {'bounding_box': array([0.64624894, 0.3396471 , 0.6920283 , 0.37701416], dtype=float32), 'class_id': 0.0, 'score': 0.5}, {'bounding_box': array([0.69902205, 0.56267387, 0.73638916, 0.59487146], dtype=float32), 'class_id': 0.0, 'score': 0.5}, {'bounding_box': array([0.71218073, 0.37719586, 0.7510965 , 0.41211757], dtype=float32), 'class_id': 0.0, 'score': 0.5}, {'bounding_box': array([0.7280674 , 0.53505546, 0.7664598 , 0.5709354 ], dtype=float32), 'class_id': 0.0, 'score': 0.5}, {'bounding_box': array([0.7575432 , 0.71732384, 0.79440784, 0.7527215 ], dtype=float32), 'class_id': 0.0, 'score': 0.5}, {'bounding_box': array([0.7681742 , 0.6876242 , 0.8065667 , 0.72161317], dtype=float32), 'class_id': 0.0, 'score': 0.5}, {'bounding_box': array([0.19239941, 0.2888945 , 0.24383295, 0.32646272], dtype=float32), 'class_id': 0.0, 'score': 0.48828125}, {'bounding_box': array([0.2074754 , 0.61666703, 0.2558018 , 0.654034  ], dtype=float32), 'class_id': 0.0, 'score': 0.48828125}, {'bounding_box': array([0.23416603, 0.48415515, 0.28315103, 0.52052414], dtype=float32), 'class_id': 0.0, 'score': 0.48828125}, {'bounding_box': array([0.2396158 , 0.6820383 , 0.29203093, 0.72043085], dtype=float32), 'class_id': 0.0, 'score': 0.48828125}, {'bounding_box': array([0.26236126, 0.7221957 , 0.31068763, 0.7621793 ], dtype=float32), 'class_id': 0.0, 'score': 0.48828125}, {'bounding_box': array([0.3273993 , 0.23111811, 0.3757257 , 0.26848516], dtype=float32), 'class_id': 0.0, 'score': 0.48828125}, {'bounding_box': array([0.33973593, 0.6373681 , 0.38369346, 0.6747352 ], dtype=float32), 'class_id': 0.0, 'score': 0.48828125}, {'bounding_box': array([0.39631382, 0.47738704, 0.44027135, 0.51375604], dtype=float32), 'class_id': 0.0, 'score': 0.48828125}, {'bounding_box': array([0.5685012 , 0.5000247 , 0.61014193, 0.53590465], dtype=float32), 'class_id': 0.0, 'score': 0.48828125}, {'bounding_box': array([0.5986953 , 0.39493275, 0.63793015, 0.4319958 ], dtype=float32), 'class_id': 0.0, 'score': 0.48828125}, {'bounding_box': array([0.6409139 , 0.28605473, 0.68706864, 0.32571316], dtype=float32), 'class_id': 0.0, 'score': 0.48828125}, {'bounding_box': array([0.6491642 , 0.37296578, 0.69080496, 0.4078875 ], dtype=float32), 'class_id': 0.0, 'score': 0.48828125}, {'bounding_box': array([0.7397204 , 0.34123662, 0.77759665, 0.37711665], dtype=float32), 'class_id': 0.0, 'score': 0.48828125}, {'bounding_box': array([0.7681742 , 0.5279901 , 0.8065667 , 0.56197906], dtype=float32), 'class_id': 0.0, 'score': 0.48828125}, {'bounding_box': array([0.80540967, 0.3963783 , 0.84464455, 0.43055025], dtype=float32), 'class_id': 0.0, 'score': 0.48828125}, {'bounding_box': array([0.32250613, 0.5569563 , 0.3721587 , 0.5938209 ], dtype=float32), 'class_id': 0.0, 'score': 0.4765625}, {'bounding_box': array([0.33236465, 0.6772204 , 0.37752846, 0.71509665], dtype=float32), 'class_id': 0.0, 'score': 0.4765625}, {'bounding_box': array([0.7598301 , 0.55839413, 0.7971971 , 0.5923831 ], dtype=float32), 'class_id': 0.0, 'score': 0.4765625}, {'bounding_box': array([0.8018802 , 0.54277205, 0.8387448 , 0.58013916], dtype=float32), 'class_id': 0.0, 'score': 0.4765625}, {'bounding_box': array([0.18272714, 0.5863347 , 0.23237972, 0.62525046], dtype=float32), 'class_id': 0.0, 'score': 0.46484375}, {'bounding_box': array([0.2177978 , 0.7535396 , 0.27136296, 0.7921389 ], dtype=float32), 'class_id': 0.0, 'score': 0.46484375}, {'bounding_box': array([0.23772748, 0.6445613 , 0.28986195, 0.6847602 ], dtype=float32), 'class_id': 0.0, 'score': 0.46484375}, {'bounding_box': array([0.34419522, 0.33685443, 0.39187184, 0.37473074], dtype=float32), 'class_id': 0.0, 'score': 0.46484375}, {'bounding_box': array([0.37967527, 0.57439876, 0.4273519 , 0.6093204 ], dtype=float32), 'class_id': 0.0, 'score': 0.46484375}, {'bounding_box': array([0.40879762, 0.5936426 , 0.45396143, 0.6280948 ], dtype=float32), 'class_id': 0.0, 'score': 0.46484375}, {'bounding_box': array([0.6527996 , 0.50246716, 0.6922457 , 0.5393318 ], dtype=float32), 'class_id': 0.0, 'score': 0.46484375}, {'bounding_box': array([0.6900524 , 0.43906578, 0.72928727, 0.47563055], dtype=float32), 'class_id': 0.0, 'score': 0.46484375}, {'bounding_box': array([0.7147584 , 0.3127659 , 0.75528693, 0.3481635 ], dtype=float32), 'class_id': 0.0, 'score': 0.46484375}, {'bounding_box': array([0.7054522 , 0.7742621 , 0.74598074, 0.81063104], dtype=float32), 'class_id': 0.0, 'score': 0.46484375}, {'bounding_box': array([0.7778397 , 0.33717173, 0.8121074 , 0.3695426 ], dtype=float32), 'class_id': 0.0, 'score': 0.46484375}, {'bounding_box': array([0.13011649, 0.69514453, 0.18590164, 0.73271275], dtype=float32), 'class_id': 0.0, 'score': 0.453125}, {'bounding_box': array([0.2777031 , 0.25507134, 0.3291366 , 0.29419655], dtype=float32), 'class_id': 0.0, 'score': 0.453125}, {'bounding_box': array([0.29142088, 0.6253784 , 0.34243602, 0.662243  ], dtype=float32), 'class_id': 0.0, 'score': 0.453125}, {'bounding_box': array([0.32622397, 0.2713363 , 0.37520897, 0.31186482], dtype=float32), 'class_id': 0.0, 'score': 0.453125}, {'bounding_box': array([0.40924558, 0.42678097, 0.4523799 , 0.46384403], dtype=float32), 'class_id': 0.0, 'score': 0.453125}, {'bounding_box': array([0.58956337, 0.28829628, 0.6350976 , 0.3258645 ], dtype=float32), 'class_id': 0.0, 'score': 0.453125}, {'bounding_box': array([0.6784002 , 0.27078012, 0.7192611 , 0.30734488], dtype=float32), 'class_id': 0.0, 'score': 0.453125}, {'bounding_box': array([0.79291075, 0.4635665 , 0.8283084 , 0.49801865], dtype=float32), 'class_id': 0.0, 'score': 0.453125}, {'bounding_box': array([0.07486126, 0.4021471 , 0.12318765, 0.43951416], dtype=float32), 'class_id': 0.0, 'score': 0.44140625}, {'bounding_box': array([0.13636816, 0.38363454, 0.18443578, 0.41922268], dtype=float32), 'class_id': 0.0, 'score': 0.44140625}, {'bounding_box': array([0.32440507, 0.42991132, 0.37379175, 0.46549946], dtype=float32), 'class_id': 0.0, 'score': 0.44140625}, {'bounding_box': array([0.35538954, 0.7768001 , 0.3975978 , 0.81316906], dtype=float32), 'class_id': 0.0, 'score': 0.44140625}, {'bounding_box': array([0.39939833, 0.76152205, 0.44395494, 0.79888916], dtype=float32), 'class_id': 0.0, 'score': 0.44140625}, {'bounding_box': array([0.6147038 , 0.44155517, 0.65556467, 0.47912338], dtype=float32), 'class_id': 0.0, 'score': 0.44140625}, {'bounding_box': array([0.6218544 , 0.47932357, 0.66238296, 0.5152036 ], dtype=float32), 'class_id': 0.0, 'score': 0.44140625}, {'bounding_box': array([0.63948077, 0.72009987, 0.6852601 , 0.7550215 ], dtype=float32), 'class_id': 0.0, 'score': 0.44140625}, {'bounding_box': array([0.6391688 , 0.74904656, 0.6855721 , 0.78349876], dtype=float32), 'class_id': 0.0, 'score': 0.44140625}, {'bounding_box': array([0.69151926, 0.4924105 , 0.7320478 , 0.5282905 ], dtype=float32), 'class_id': 0.0, 'score': 0.44140625}, {'bounding_box': array([0.7951374 , 0.5778571 , 0.8277738 , 0.61093825], dtype=float32), 'class_id': 0.0, 'score': 0.44140625}, {'bounding_box': array([0.27647716, 0.5028073 , 0.32612973, 0.54068357], dtype=float32), 'class_id': 0.0, 'score': 0.42578125}, {'bounding_box': array([0.31908235, 0.39996764, 0.36714998, 0.43413958], dtype=float32), 'class_id': 0.0, 'score': 0.42578125}, {'bounding_box': array([0.3941294 , 0.36504668, 0.44245577, 0.40396237], dtype=float32), 'class_id': 0.0, 'score': 0.42578125}, {'bounding_box': array([0.5301842, 0.4858472, 0.5665532, 0.5222162], dtype=float32), 'class_id': 0.0, 'score': 0.42578125}, {'bounding_box': array([0.5252902, 0.5206302, 0.566371 , 0.5574948], dtype=float32), 'class_id': 0.0, 'score': 0.42578125}, {'bounding_box': array([0.23044816, 0.2639946 , 0.28010073, 0.30397823], dtype=float32), 'class_id': 0.0, 'score': 0.4140625}, {'bounding_box': array([0.28717282, 0.45648545, 0.3365595 , 0.49305022], dtype=float32), 'class_id': 0.0, 'score': 0.4140625}, {'bounding_box': array([0.36352476, 0.4076916 , 0.4105604 , 0.4466073 ], dtype=float32), 'class_id': 0.0, 'score': 0.4140625}, {'bounding_box': array([0.3752359 , 0.68123573, 0.4216391 , 0.7161574 ], dtype=float32), 'class_id': 0.0, 'score': 0.4140625}, {'bounding_box': array([0.6261997 , 0.78583914, 0.6689832 , 0.82692   ], dtype=float32), 'class_id': 0.0, 'score': 0.4140625}, {'bounding_box': array([0.6502786 , 0.4307488 , 0.6945966 , 0.46585843], dtype=float32), 'class_id': 0.0, 'score': 0.4140625}, {'bounding_box': array([0.7462983 , 0.77196854, 0.7879391 , 0.8078485 ], dtype=float32), 'class_id': 0.0, 'score': 0.4140625}, {'bounding_box': array([0.10307483, 0.51401204, 0.15409   , 0.5556528 ], dtype=float32), 'class_id': 0.0, 'score': 0.40234375}, {'bounding_box': array([0.15276074, 0.2728145 , 0.20661426, 0.30869454], dtype=float32), 'class_id': 0.0, 'score': 0.40234375}, {'bounding_box': array([0.34906197, 0.30551204, 0.3954652 , 0.34188107], dtype=float32), 'class_id': 0.0, 'score': 0.40234375}, {'bounding_box': array([0.7233105, 0.5826244, 0.7627566, 0.6205006], dtype=float32), 'class_id': 0.0, 'score': 0.40234375}, {'bounding_box': array([0.7533331 , 0.37669513, 0.79100657, 0.41180477], dtype=float32), 'class_id': 0.0, 'score': 0.40234375}, {'bounding_box': array([0.79557073, 0.36319178, 0.83534026, 0.396451  ], dtype=float32), 'class_id': 0.0, 'score': 0.40234375}, {'bounding_box': array([0.18737926, 0.68864673, 0.24167441, 0.727246  ], dtype=float32), 'class_id': 0.0, 'score': 0.390625}, {'bounding_box': array([0.2162265 , 0.4097398 , 0.26561323, 0.44484943], dtype=float32), 'class_id': 0.0, 'score': 0.390625}, {'bounding_box': array([0.30381685, 0.3057488 , 0.3559513 , 0.34085843], dtype=float32), 'class_id': 0.0, 'score': 0.390625}, {'bounding_box': array([0.41271994, 0.50838923, 0.45849928, 0.5452539 ], dtype=float32), 'class_id': 0.0, 'score': 0.390625}, {'bounding_box': array([0.4308522 , 0.7372657 , 0.47917858, 0.7707977 ], dtype=float32), 'class_id': 0.0, 'score': 0.390625}, {'bounding_box': array([0.58891857, 0.35840154, 0.63112676, 0.39627784], dtype=float32), 'class_id': 0.0, 'score': 0.390625}, {'bounding_box': array([0.5764952 , 0.63262534, 0.6198617 , 0.67101777], dtype=float32), 'class_id': 0.0, 'score': 0.390625}, {'bounding_box': array([0.67812747, 0.81152654, 0.7175736 , 0.8494028 ], dtype=float32), 'class_id': 0.0, 'score': 0.390625}, {'bounding_box': array([0.27304795, 0.42378986, 0.3266131 , 0.46085292], dtype=float32), 'class_id': 0.0, 'score': 0.37890625}, {'bounding_box': array([0.37290716, 0.7369242 , 0.42058378, 0.7753167 ], dtype=float32), 'class_id': 0.0, 'score': 0.37890625}, {'bounding_box': array([0.6571582 , 0.62634987, 0.70052475, 0.6612715 ], dtype=float32), 'class_id': 0.0, 'score': 0.37890625}, {'bounding_box': array([0.7227626 , 0.41140512, 0.76146996, 0.44796988], dtype=float32), 'class_id': 0.0, 'score': 0.37890625}, {'bounding_box': array([0.7272892 , 0.27595407, 0.76892996, 0.3123231 ], dtype=float32), 'class_id': 0.0, 'score': 0.37890625}, {'bounding_box': array([0.7267232, 0.5020447, 0.767804 , 0.5355767], dtype=float32), 'class_id': 0.0, 'score': 0.37890625}, {'bounding_box': array([0.7540126 , 0.445048  , 0.79271996, 0.48161277], dtype=float32), 'class_id': 0.0, 'score': 0.37890625}, {'bounding_box': array([0.74343073, 0.6590573 , 0.7823465 , 0.69693357], dtype=float32), 'class_id': 0.0, 'score': 0.37890625}, {'bounding_box': array([0.14412941, 0.52663434, 0.1958398 , 0.5650269 ], dtype=float32), 'class_id': 0.0, 'score': 0.37109375}, {'bounding_box': array([0.3156794 , 0.7830036 , 0.35788766, 0.82298726], dtype=float32), 'class_id': 0.0, 'score': 0.37109375}, {'bounding_box': array([0.39041603, 0.32790518, 0.43940103, 0.3642742 ], dtype=float32), 'class_id': 0.0, 'score': 0.37109375}, {'bounding_box': array([0.5533449 , 0.723157  , 0.59912425, 0.75952595], dtype=float32), 'class_id': 0.0, 'score': 0.37109375}, {'bounding_box': array([0.32368594, 0.5990954 , 0.37267095, 0.63697165], dtype=float32), 'class_id': 0.0, 'score': 0.359375}, {'bounding_box': array([0.36584494, 0.5402341 , 0.41162428, 0.5776011 ], dtype=float32), 'class_id': 0.0, 'score': 0.359375}, {'bounding_box': array([0.09344622, 0.36632478, 0.1360006 , 0.40288955], dtype=float32), 'class_id': 0.0, 'score': 0.34765625}, {'bounding_box': array([0.77557254, 0.7451898 , 0.81778073, 0.78058743], dtype=float32), 'class_id': 0.0, 'score': 0.34765625}, {'bounding_box': array([0.09044958, 0.44840446, 0.13660435, 0.4830421 ], dtype=float32), 'class_id': 0.0, 'score': 0.3359375}, {'bounding_box': array([0.10306573, 0.47442168, 0.14822957, 0.5133374 ], dtype=float32), 'class_id': 0.0, 'score': 0.3359375}, {'bounding_box': array([0.11506382, 0.30814248, 0.15902135, 0.3460188 ], dtype=float32), 'class_id': 0.0, 'score': 0.3359375}, {'bounding_box': array([0.17392352, 0.4110527 , 0.22134489, 0.44712585], dtype=float32), 'class_id': 0.0, 'score': 0.3359375}, {'bounding_box': array([0.3470482 , 0.37812757, 0.3919702 , 0.4127652 ], dtype=float32), 'class_id': 0.0, 'score': 0.3359375}, {'bounding_box': array([0.53699535, 0.6887694 , 0.58912987, 0.7295162 ], dtype=float32), 'class_id': 0.0, 'score': 0.3359375}, {'bounding_box': array([0.64377576, 0.40119857, 0.68773335, 0.4370786 ], dtype=float32), 'class_id': 0.0, 'score': 0.3359375}, {'bounding_box': array([0.66939914, 0.65821135, 0.7127657 , 0.6960876 ], dtype=float32), 'class_id': 0.0, 'score': 0.32421875}, {'bounding_box': array([0.12830375, 0.34353918, 0.17533939, 0.3840677 ], dtype=float32), 'class_id': 0.0, 'score': 0.31640625}, {'bounding_box': array([0.2846025 , 0.66115594, 0.33673695, 0.69821906], dtype=float32), 'class_id': 0.0, 'score': 0.31640625}, {'bounding_box': array([0.3183418 , 0.5189381 , 0.36537743, 0.55580276], dtype=float32), 'class_id': 0.0, 'score': 0.31640625}, {'bounding_box': array([0.4178808 , 0.6612552 , 0.46428403, 0.6981198 ], dtype=float32), 'class_id': 0.0, 'score': 0.31640625}, {'bounding_box': array([0.5736281 , 0.32053632, 0.61978287, 0.35612446], dtype=float32), 'class_id': 0.0, 'score': 0.31640625}, {'bounding_box': array([0.6045149 , 0.32814968, 0.6484725 , 0.3640297 ], dtype=float32), 'class_id': 0.0, 'score': 0.31640625}, {'bounding_box': array([0.25402108, 0.3419305 , 0.30300608, 0.37980682], dtype=float32), 'class_id': 0.0, 'score': 0.3046875}, {'bounding_box': array([0.52360415, 0.3912422 , 0.57366395, 0.43090057], dtype=float32), 'class_id': 0.0, 'score': 0.3046875}, {'bounding_box': array([0.5404101 , 0.35565585, 0.5900627 , 0.39563948], dtype=float32), 'class_id': 0.0, 'score': 0.29296875}, {'bounding_box': array([0.6781015 , 0.73884815, 0.7316666 , 0.77797335], dtype=float32), 'class_id': 0.0, 'score': 0.28515625}, {'bounding_box': array([0.01078474, 0.3526308 , 0.04551944, 0.3841371 ], dtype=float32), 'class_id': 0.0, 'score': 0.25390625}, {'bounding_box': array([0.5752524 , 0.57537615, 0.61861897, 0.6159047 ], dtype=float32), 'class_id': 0.0, 'score': 0.25390625}]\n",
            "XML file saved to /content/drive/MyDrive/IMG_57812.xml\n"
          ]
        }
      ],
      "source": [
        "from tensorflow.keras.utils import array_to_img\n",
        "interpreter = tf.lite.Interpreter(model_path=model_path)\n",
        "interpreter.allocate_tensors()\n",
        "\n",
        "detection_result_image = run_odt_and_draw_results(\n",
        "    \"/content/drive/MyDrive/IMG_57812.png\",\n",
        "    interpreter\n",
        ")"
      ]
    }
  ],
  "metadata": {
    "accelerator": "GPU",
    "colab": {
      "provenance": []
    },
    "gpuClass": "standard",
    "kernelspec": {
      "display_name": "Python 3",
      "name": "python3"
    },
    "language_info": {
      "codemirror_mode": {
        "name": "ipython",
        "version": 3
      },
      "file_extension": ".py",
      "mimetype": "text/x-python",
      "name": "python",
      "nbconvert_exporter": "python",
      "pygments_lexer": "ipython3",
      "version": "3.12.4"
    }
  },
  "nbformat": 4,
  "nbformat_minor": 0
}
