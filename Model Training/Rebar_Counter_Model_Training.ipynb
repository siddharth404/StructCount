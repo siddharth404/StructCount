{
  "nbformat": 4,
  "nbformat_minor": 0,
  "metadata": {
    "colab": {
      "provenance": []
    },
    "kernelspec": {
      "name": "python3",
      "display_name": "Python 3"
    },
    "language_info": {
      "name": "python"
    }
  },
  "cells": [
    {
      "cell_type": "markdown",
      "source": [
        "**Download the Dataset**"
      ],
      "metadata": {
        "id": "MmXKFfI-jWJO"
      }
    },
    {
      "cell_type": "code",
      "source": [
        "!pip install roboflow\n",
        "\n",
        "from roboflow import Roboflow8\n",
        "import os\n",
        "rf = Roboflow(api_key=os.environ[\"ROBOFLOW_APIKEY\"])\n",
        "project = rf.workspace(\"junaid-bashir-bfjgs\").project(\"rebarcounterstemeye\")\n",
        "version = project.version(1)\n",
        "dataset = version.download(\"voc\")\n",
        ""
      ],
      "metadata": {
        "id": "7kjmpyGPVU6i"
      },
      "execution_count": null,
      "outputs": []
    },
    {
      "cell_type": "markdown",
      "source": [
        "**Install the required packages**"
      ],
      "metadata": {
        "id": "vlYKRi96T_hN"
      }
    },
    {
      "cell_type": "code",
      "execution_count": null,
      "metadata": {
        "id": "nr5CQ7muSrc7"
      },
      "outputs": [],
      "source": [
        "!pip install -q tflite-model-maker\n",
        "!pip install -q tflite-support"
      ]
    },
    {
      "cell_type": "markdown",
      "source": [
        "**Import the required packages.**"
      ],
      "metadata": {
        "id": "pCsVD83oUDQI"
      }
    },
    {
      "cell_type": "code",
      "source": [
        "import numpy as np\n",
        "import os\n",
        "from tflite_model_maker.config import ExportFormat, QuantizationConfig\n",
        "from tflite_model_maker import model_spec\n",
        "from tflite_model_maker import object_detector\n",
        "from tflite_support import metadata\n",
        "import tensorflow as tf\n",
        "assert tf.__version__.startswith('2')\n",
        "tf.get_logger().setLevel('ERROR')\n",
        "from absl import logging\n",
        "logging.set_verbosity(logging.ERROR)"
      ],
      "metadata": {
        "id": "BSX8cKozSskj"
      },
      "execution_count": null,
      "outputs": []
    },
    {
      "cell_type": "markdown",
      "source": [
        "**Load the dataset**"
      ],
      "metadata": {
        "id": "ocs4FgCSUI-J"
      }
    },
    {
      "cell_type": "code",
      "source": [
        "train_data = object_detector.DataLoader.from_pascal_voc(\n",
        "    'train/images',\n",
        "    'train/xml',\n",
        "    ['label']\n",
        ")\n",
        "val_data = object_detector.DataLoader.from_pascal_voc(\n",
        "    'validate/images',\n",
        "    'validate/xml',\n",
        "    ['label']\n",
        ")"
      ],
      "metadata": {
        "id": "Qu9PmIVqSw1t"
      },
      "execution_count": null,
      "outputs": []
    },
    {
      "cell_type": "markdown",
      "source": [
        "**Select a model architecture**"
      ],
      "metadata": {
        "id": "wWxXTeD0UOyT"
      }
    },
    {
      "cell_type": "code",
      "source": [
        "spec = object_detector.EfficientDetSpec(\n",
        "  model_name='efficientdet-lite4',\n",
        "  uri='https://tfhub.dev/tensorflow/efficientdet/lite4/feature-vector/2',\n",
        "  hparams={'max_instances_per_image': 800},\n",
        "  tflite_max_detections=400\n",
        "  )"
      ],
      "metadata": {
        "id": "z-QtE9VrTHET"
      },
      "execution_count": null,
      "outputs": []
    },
    {
      "cell_type": "markdown",
      "source": [
        "**Train the model with the training data.**"
      ],
      "metadata": {
        "id": "__gfbQltUTY9"
      }
    },
    {
      "cell_type": "code",
      "source": [
        "model = object_detector.create(train_data, model_spec=spec, batch_size=16, train_whole_model=True, epochs=20, validation_data=val_data)"
      ],
      "metadata": {
        "id": "GmiMV1YLTaGI"
      },
      "execution_count": null,
      "outputs": []
    },
    {
      "cell_type": "markdown",
      "source": [
        "**Export as a tflite model.**"
      ],
      "metadata": {
        "id": "NWXmnOlVUaEW"
      }
    },
    {
      "cell_type": "code",
      "source": [
        "model.export(export_dir='.', tflite_filename='rebarcounter.tflite')"
      ],
      "metadata": {
        "id": "zRikCJjTTxxN"
      },
      "execution_count": null,
      "outputs": []
    }
  ]
}